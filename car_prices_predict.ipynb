{
 "cells": [
  {
   "cell_type": "markdown",
   "metadata": {
    "collapsed": true
   },
   "source": [
    "## Predicting Car Prices\n",
    "\n",
    "In this project, we'll use some of the machine learning techniques to predict a car's market price using its attributes. The data set we will be working with contains information on various cars. For each car we have information about the technical aspects of the vehicle such as the motor's displacement, the weight of the car, the miles per gallon, how fast the car accelerates, and more.\n",
    "\n",
    "The dataset can be downloaded directly from [here](https://archive.ics.uci.edu/ml/machine-learning-databases/autos/imports-85.data), and its information it is extracted from the University of California Irvine's Machine Learning Repository, [here](https://archive.ics.uci.edu/ml/datasets/automobile).\n",
    "\n",
    "This data set consists of three types of entities:\n",
    "\n",
    "- the specification of an auto in terms of various characteristics.\n",
    "- its assigned insurance risk rating.\n",
    "- its normalized losses in use as compared to other cars. \n",
    "\n",
    "The second rating corresponds to the degree to which the auto is more risky than its price indicates. Cars are initially assigned a risk factor symbol associated with its price. Then, if it is more risky (or less), this symbol is adjusted by moving it up (or down) the scale. Actuarians call this process \"symboling\". A value of +3 indicates that the auto is risky, -3 that it is probably pretty safe.\n",
    "\n",
    "The third factor is the relative average loss payment per insured vehicle year. This value is normalized for all autos within a particular size classification (two-door small, station wagons, sports/speciality, etc...), and represents the average loss per car per year. \n",
    "\n",
    "This dataset contains 26 different attributes for 205 instances that can be categorical, integer or real. The task must be performed as a regression one.\n",
    "\n",
    "### Introduction to the data set\n",
    "\n",
    "Initially, the data set contains no header, so we will use the columns names as defined by the repository:\n",
    "\n",
    "Attribute: Attribute Range\n",
    "\n",
    "1. symboling: -3, -2, -1, 0, 1, 2, 3.\n",
    "2. normalized-losses: continuous from 65 to 256.\n",
    "3. make:\n",
    "    alfa-romero, audi, bmw, chevrolet, dodge, honda,\n",
    "    isuzu, jaguar, mazda, mercedes-benz, mercury,\n",
    "    mitsubishi, nissan, peugot, plymouth, porsche,\n",
    "    renault, saab, subaru, toyota, volkswagen, volvo\n",
    "4. fuel-type: diesel, gas.\n",
    "5. aspiration: std, turbo.\n",
    "6. num-of-doors: four, two.\n",
    "7. body-style: hardtop, wagon, sedan, hatchback, convertible.\n",
    "8. drive-wheels: 4wd, fwd, rwd.\n",
    "9. engine-location: front, rear.\n",
    "10. wheel-base: continuous from 86.6 120.9.\n",
    "11. length: continuous from 141.1 to 208.1.\n",
    "12. width: continuous from 60.3 to 72.3.\n",
    "13. height: continuous from 47.8 to 59.8.\n",
    "14. curb-weight: continuous from 1488 to 4066.\n",
    "15. engine-type: dohc, dohcv, l, ohc, ohcf, ohcv, rotor.\n",
    "16. num-of-cylinders: eight, five, four, six, three, twelve, two.\n",
    "17. engine-size: continuous from 61 to 326.\n",
    "18. fuel-system: 1bbl, 2bbl, 4bbl, idi, mfi, mpfi, spdi, spfi.\n",
    "19. bore: continuous from 2.54 to 3.94.\n",
    "20. stroke: continuous from 2.07 to 4.17.\n",
    "21. compression-ratio: continuous from 7 to 23.\n",
    "22. horsepower: continuous from 48 to 288.\n",
    "23. peak-rpm: continuous from 4150 to 6600.\n",
    "24. city-mpg: continuous from 13 to 49.\n",
    "25. highway-mpg: continuous from 16 to 54.\n",
    "26. price: continuous from 5118 to 45400."
   ]
  },
  {
   "cell_type": "code",
   "execution_count": 1,
   "metadata": {
    "collapsed": false
   },
   "outputs": [
    {
     "name": "stdout",
     "output_type": "stream",
     "text": [
      "   symboling normalized-losses         make fuel-type aspiration num-of-doors  \\\n",
      "0          3                 ?  alfa-romero       gas        std          two   \n",
      "1          3                 ?  alfa-romero       gas        std          two   \n",
      "2          1                 ?  alfa-romero       gas        std          two   \n",
      "3          2               164         audi       gas        std         four   \n",
      "4          2               164         audi       gas        std         four   \n",
      "\n",
      "    body-style drive-wheels engine-location  wheel-base  length  width  \\\n",
      "0  convertible          rwd           front        88.6   168.8   64.1   \n",
      "1  convertible          rwd           front        88.6   168.8   64.1   \n",
      "2    hatchback          rwd           front        94.5   171.2   65.5   \n",
      "3        sedan          fwd           front        99.8   176.6   66.2   \n",
      "4        sedan          4wd           front        99.4   176.6   66.4   \n",
      "\n",
      "   height  curb-weight engine-type num-of-cylinders  engine-size fuel-system  \\\n",
      "0    48.8         2548        dohc             four          130        mpfi   \n",
      "1    48.8         2548        dohc             four          130        mpfi   \n",
      "2    52.4         2823        ohcv              six          152        mpfi   \n",
      "3    54.3         2337         ohc             four          109        mpfi   \n",
      "4    54.3         2824         ohc             five          136        mpfi   \n",
      "\n",
      "   bore stroke  compression-rate horsepower peak-rpm  city-mpg  highway-mpg  \\\n",
      "0  3.47   2.68               9.0        111     5000        21           27   \n",
      "1  3.47   2.68               9.0        111     5000        21           27   \n",
      "2  2.68   3.47               9.0        154     5000        19           26   \n",
      "3  3.19   3.40              10.0        102     5500        24           30   \n",
      "4  3.19   3.40               8.0        115     5500        18           22   \n",
      "\n",
      "   price  \n",
      "0  13495  \n",
      "1  16500  \n",
      "2  16500  \n",
      "3  13950  \n",
      "4  17450  \n"
     ]
    }
   ],
   "source": [
    "# Read data set\n",
    "import pandas as pd\n",
    "pd.options.display.max_columns = 99\n",
    "\n",
    "cols = ['symboling', 'normalized-losses', 'make', 'fuel-type', 'aspiration', 'num-of-doors', 'body-style', \n",
    "        'drive-wheels', 'engine-location', 'wheel-base', 'length', 'width', 'height', 'curb-weight', 'engine-type', \n",
    "        'num-of-cylinders', 'engine-size', 'fuel-system', 'bore', 'stroke', 'compression-rate', 'horsepower', 'peak-rpm', 'city-mpg', 'highway-mpg', 'price']\n",
    "cars = pd.read_csv('imports-85.data', names=cols)\n",
    "print(cars.head())"
   ]
  },
  {
   "cell_type": "code",
   "execution_count": 2,
   "metadata": {
    "collapsed": false
   },
   "outputs": [
    {
     "name": "stdout",
     "output_type": "stream",
     "text": [
      "<class 'pandas.core.frame.DataFrame'>\n",
      "RangeIndex: 205 entries, 0 to 204\n",
      "Data columns (total 26 columns):\n",
      "symboling            205 non-null int64\n",
      "normalized-losses    205 non-null object\n",
      "make                 205 non-null object\n",
      "fuel-type            205 non-null object\n",
      "aspiration           205 non-null object\n",
      "num-of-doors         205 non-null object\n",
      "body-style           205 non-null object\n",
      "drive-wheels         205 non-null object\n",
      "engine-location      205 non-null object\n",
      "wheel-base           205 non-null float64\n",
      "length               205 non-null float64\n",
      "width                205 non-null float64\n",
      "height               205 non-null float64\n",
      "curb-weight          205 non-null int64\n",
      "engine-type          205 non-null object\n",
      "num-of-cylinders     205 non-null object\n",
      "engine-size          205 non-null int64\n",
      "fuel-system          205 non-null object\n",
      "bore                 205 non-null object\n",
      "stroke               205 non-null object\n",
      "compression-rate     205 non-null float64\n",
      "horsepower           205 non-null object\n",
      "peak-rpm             205 non-null object\n",
      "city-mpg             205 non-null int64\n",
      "highway-mpg          205 non-null int64\n",
      "price                205 non-null object\n",
      "dtypes: float64(5), int64(5), object(16)\n",
      "memory usage: 41.7+ KB\n",
      "None\n",
      "  normalized-losses  wheel-base  length  width  height  curb-weight  \\\n",
      "0                 ?        88.6   168.8   64.1    48.8         2548   \n",
      "1                 ?        88.6   168.8   64.1    48.8         2548   \n",
      "2                 ?        94.5   171.2   65.5    52.4         2823   \n",
      "3               164        99.8   176.6   66.2    54.3         2337   \n",
      "4               164        99.4   176.6   66.4    54.3         2824   \n",
      "\n",
      "   engine-size  bore stroke  compression-rate horsepower peak-rpm  city-mpg  \\\n",
      "0          130  3.47   2.68               9.0        111     5000        21   \n",
      "1          130  3.47   2.68               9.0        111     5000        21   \n",
      "2          152  2.68   3.47               9.0        154     5000        19   \n",
      "3          109  3.19   3.40              10.0        102     5500        24   \n",
      "4          136  3.19   3.40               8.0        115     5500        18   \n",
      "\n",
      "   highway-mpg  price  \n",
      "0           27  13495  \n",
      "1           27  16500  \n",
      "2           26  16500  \n",
      "3           30  13950  \n",
      "4           22  17450  \n"
     ]
    }
   ],
   "source": [
    "# Determine numeric columns to be used as features\n",
    "print(cars.info())\n",
    "continuous_values_cols = ['normalized-losses', 'wheel-base', 'length', 'width', 'height', 'curb-weight', 'engine-size', 'bore', 'stroke', 'compression-rate', 'horsepower', 'peak-rpm', 'city-mpg', 'highway-mpg', 'price']\n",
    "numeric_cars = cars[continuous_values_cols].copy()\n",
    "print(numeric_cars.head())"
   ]
  },
  {
   "cell_type": "markdown",
   "metadata": {},
   "source": [
    "From this data set, we will take care of the numeric columns of it to perform the predictions. The target column will be `price`.\n",
    "\n",
    "### Cleaning the data set\n",
    "\n",
    "We usually can't have any missing values if we want to use them for predictive modeling. \n",
    "\n",
    "Based on the data set preview from the last step, we can tell that the `normalized-losses` column contains missing values represented using `\"?\"`. Let's replace these values and look for the presence of missing values in other numeric columns. Let's also rescale (min-max normalization) the values in the numeric columns so they all range from 0 to 1."
   ]
  },
  {
   "cell_type": "code",
   "execution_count": 3,
   "metadata": {
    "collapsed": false
   },
   "outputs": [
    {
     "name": "stdout",
     "output_type": "stream",
     "text": [
      "  normalized-losses  wheel-base  length  width  height  curb-weight  \\\n",
      "0               NaN        88.6   168.8   64.1    48.8         2548   \n",
      "1               NaN        88.6   168.8   64.1    48.8         2548   \n",
      "2               NaN        94.5   171.2   65.5    52.4         2823   \n",
      "3               164        99.8   176.6   66.2    54.3         2337   \n",
      "4               164        99.4   176.6   66.4    54.3         2824   \n",
      "\n",
      "   engine-size  bore stroke  compression-rate horsepower peak-rpm  city-mpg  \\\n",
      "0          130  3.47   2.68               9.0        111     5000        21   \n",
      "1          130  3.47   2.68               9.0        111     5000        21   \n",
      "2          152  2.68   3.47               9.0        154     5000        19   \n",
      "3          109  3.19   3.40              10.0        102     5500        24   \n",
      "4          136  3.19   3.40               8.0        115     5500        18   \n",
      "\n",
      "   highway-mpg  price  \n",
      "0           27  13495  \n",
      "1           27  16500  \n",
      "2           26  16500  \n",
      "3           30  13950  \n",
      "4           22  17450  \n"
     ]
    }
   ],
   "source": [
    "# Replace missing values\n",
    "import numpy as np\n",
    "numeric_cars.replace(to_replace='?', value=np.nan, inplace=True)\n",
    "print(numeric_cars.head())"
   ]
  },
  {
   "cell_type": "code",
   "execution_count": 4,
   "metadata": {
    "collapsed": false
   },
   "outputs": [
    {
     "name": "stdout",
     "output_type": "stream",
     "text": [
      "Before:\n",
      "normalized-losses     object\n",
      "wheel-base           float64\n",
      "length               float64\n",
      "width                float64\n",
      "height               float64\n",
      "curb-weight            int64\n",
      "engine-size            int64\n",
      "bore                  object\n",
      "stroke                object\n",
      "compression-rate     float64\n",
      "horsepower            object\n",
      "peak-rpm              object\n",
      "city-mpg               int64\n",
      "highway-mpg            int64\n",
      "price                 object\n",
      "dtype: object\n",
      "After:\n",
      "normalized-losses    float64\n",
      "wheel-base           float64\n",
      "length               float64\n",
      "width                float64\n",
      "height               float64\n",
      "curb-weight          float64\n",
      "engine-size          float64\n",
      "bore                 float64\n",
      "stroke               float64\n",
      "compression-rate     float64\n",
      "horsepower           float64\n",
      "peak-rpm             float64\n",
      "city-mpg             float64\n",
      "highway-mpg          float64\n",
      "price                float64\n",
      "dtype: object\n"
     ]
    }
   ],
   "source": [
    "# Check and convert numeric columns\n",
    "print('Before:', numeric_cars.dtypes, sep='\\n')\n",
    "numeric_cars = numeric_cars.astype('float', copy=False)\n",
    "print('After:', numeric_cars.dtypes, sep='\\n')"
   ]
  },
  {
   "cell_type": "code",
   "execution_count": 5,
   "metadata": {
    "collapsed": false
   },
   "outputs": [
    {
     "name": "stdout",
     "output_type": "stream",
     "text": [
      "Previous missing values:\n",
      "normalized-losses    41\n",
      "wheel-base            0\n",
      "length                0\n",
      "width                 0\n",
      "height                0\n",
      "curb-weight           0\n",
      "engine-size           0\n",
      "bore                  4\n",
      "stroke                4\n",
      "compression-rate      0\n",
      "horsepower            2\n",
      "peak-rpm              2\n",
      "city-mpg              0\n",
      "highway-mpg           0\n",
      "price                 4\n",
      "dtype: int64\n"
     ]
    }
   ],
   "source": [
    "# Check missing values\n",
    "print('Previous missing values:', (numeric_cars.isnull()).sum(), sep='\\n')"
   ]
  },
  {
   "cell_type": "code",
   "execution_count": 6,
   "metadata": {
    "collapsed": false
   },
   "outputs": [
    {
     "name": "stdout",
     "output_type": "stream",
     "text": [
      "Late missing values:\n",
      "normalized-losses    0\n",
      "wheel-base           0\n",
      "length               0\n",
      "width                0\n",
      "height               0\n",
      "curb-weight          0\n",
      "engine-size          0\n",
      "bore                 0\n",
      "stroke               0\n",
      "compression-rate     0\n",
      "horsepower           0\n",
      "peak-rpm             0\n",
      "city-mpg             0\n",
      "highway-mpg          0\n",
      "price                0\n",
      "dtype: int64\n"
     ]
    }
   ],
   "source": [
    "# Handle missing values\n",
    "numeric_cars = numeric_cars.dropna(subset=['price']) # Remove missing price value rows, as we need the actual price as target\n",
    "numeric_cars = numeric_cars.fillna(numeric_cars.mean()) # Replace all missing values with the column means\n",
    "print('Late missing values:', (numeric_cars.isnull()).sum(), sep='\\n')"
   ]
  },
  {
   "cell_type": "code",
   "execution_count": 7,
   "metadata": {
    "collapsed": false
   },
   "outputs": [
    {
     "name": "stdout",
     "output_type": "stream",
     "text": [
      "   normalized-losses  wheel-base    length     width    height  curb-weight  \\\n",
      "0           0.298429    0.058309  0.413433  0.324786  0.083333     0.411171   \n",
      "1           0.298429    0.058309  0.413433  0.324786  0.083333     0.411171   \n",
      "2           0.298429    0.230321  0.449254  0.444444  0.383333     0.517843   \n",
      "3           0.518325    0.384840  0.529851  0.504274  0.541667     0.329325   \n",
      "4           0.518325    0.373178  0.529851  0.521368  0.541667     0.518231   \n",
      "\n",
      "   engine-size      bore    stroke  compression-rate  horsepower  peak-rpm  \\\n",
      "0     0.260377  0.664286  0.290476            0.1250    0.294393  0.346939   \n",
      "1     0.260377  0.664286  0.290476            0.1250    0.294393  0.346939   \n",
      "2     0.343396  0.100000  0.666667            0.1250    0.495327  0.346939   \n",
      "3     0.181132  0.464286  0.633333            0.1875    0.252336  0.551020   \n",
      "4     0.283019  0.464286  0.633333            0.0625    0.313084  0.551020   \n",
      "\n",
      "   city-mpg  highway-mpg    price  \n",
      "0  0.222222     0.289474  13495.0  \n",
      "1  0.222222     0.289474  16500.0  \n",
      "2  0.166667     0.263158  16500.0  \n",
      "3  0.305556     0.368421  13950.0  \n",
      "4  0.138889     0.157895  17450.0  \n"
     ]
    }
   ],
   "source": [
    "# Normalize numeric columns except target column\n",
    "price_col = numeric_cars['price'].copy()\n",
    "numeric_cars = (numeric_cars - numeric_cars.min())/(numeric_cars.max() - numeric_cars.min())\n",
    "numeric_cars['price'] = price_col\n",
    "print(numeric_cars.head())"
   ]
  },
  {
   "cell_type": "markdown",
   "metadata": {},
   "source": [
    "### Creating a univariate simple model using k-nearest neighbors algorithm\n",
    "\n",
    "Let's start with some univariate `k-nearest neighbors` models. Starting with simple models before moving to more complex models helps us structure the code workflow and understand the features better."
   ]
  },
  {
   "cell_type": "code",
   "execution_count": 8,
   "metadata": {
    "collapsed": true
   },
   "outputs": [],
   "source": [
    "def knn_train_test(train_column, target_column, dataset):\n",
    "    \"\"\"\n",
    "    This function performs the training and simple validation process with k-nearest neighbors algorithm and default k value.\n",
    "    It implements a simple 50/50 split.\n",
    "    \n",
    "    Inputs:\n",
    "        training column name, target column name, and the dataframe object\n",
    "    Output:\n",
    "        RMSE (root-mean-square error) metric\n",
    "    \"\"\"\n",
    "    from sklearn.neighbors import KNeighborsRegressor\n",
    "    from sklearn.metrics import mean_squared_error\n",
    "    \n",
    "    # Randomize order of rows in data frame\n",
    "    np.random.seed(1) # Fixed random seed for reproducibility reasons\n",
    "    shuffled_index = np.random.permutation(dataset.index)\n",
    "    dataset = dataset.reindex(shuffled_index)\n",
    "    \n",
    "    # Select the first half and set as training set\n",
    "    # Select the second half and set as test set\n",
    "    split = int(len(dataset)/2)\n",
    "    train_ds = dataset[:split].copy()\n",
    "    test_ds = dataset[split:].copy()\n",
    "    \n",
    "    # Fit a KNN model using default k value\n",
    "    model = KNeighborsRegressor()\n",
    "    model.fit(train_ds[[train_column]], train_ds[target_column])\n",
    "    \n",
    "    # Make predictions using model\n",
    "    predictions = model.predict(test_ds[[train_column]])\n",
    "    \n",
    "    # Calculate and return RMSE\n",
    "    mse = mean_squared_error(test_ds[target_column], predictions)\n",
    "    rmse = np.sqrt(mse)\n",
    "    return rmse"
   ]
  },
  {
   "cell_type": "code",
   "execution_count": 9,
   "metadata": {
    "collapsed": false
   },
   "outputs": [
    {
     "name": "stdout",
     "output_type": "stream",
     "text": [
      "RMSE results for each column (default k value):\n",
      "engine-size          3238.462830\n",
      "horsepower           4037.037713\n",
      "curb-weight          4401.118255\n",
      "highway-mpg          4630.026799\n",
      "width                4704.482590\n",
      "city-mpg             4766.422505\n",
      "length               5427.200961\n",
      "wheel-base           5461.553998\n",
      "compression-rate     6610.812153\n",
      "bore                 6780.627785\n",
      "normalized-losses    7330.197653\n",
      "peak-rpm             7697.459696\n",
      "stroke               8006.529545\n",
      "height               8144.441043\n",
      "dtype: float64\n"
     ]
    }
   ],
   "source": [
    "# Use function to evaluate the model with different numeric columns\n",
    "columns = numeric_cars.columns.tolist()\n",
    "columns.remove('price')\n",
    "rmses = dict()\n",
    "for col in columns:\n",
    "    rmse = knn_train_test(col, 'price', numeric_cars)\n",
    "    rmses[col] = rmse\n",
    "\n",
    "# Create Series from dictionary to clarify results\n",
    "rmse_results_series = pd.Series(rmses)\n",
    "print('RMSE results for each column (default k value):', rmse_results_series.sort_values(), sep='\\n')"
   ]
  },
  {
   "cell_type": "code",
   "execution_count": 10,
   "metadata": {
    "collapsed": true
   },
   "outputs": [],
   "source": [
    "def knn_train_test(train_column, target_column, dataset, k_value):\n",
    "    \"\"\"\n",
    "    This function performs the training and simple validation process with k-nearest neighbors algorithm and a given k value.\n",
    "    It implements a simple 50/50 split.\n",
    "    \n",
    "    Inputs:\n",
    "        training column name, target column name, the dataframe object, and k value for k-nearest neighbors algorithm\n",
    "    Output:\n",
    "        RMSE (root-mean-square error) metric\n",
    "    \"\"\"\n",
    "    from sklearn.neighbors import KNeighborsRegressor\n",
    "    from sklearn.metrics import mean_squared_error\n",
    "    \n",
    "    # Randomize order of rows in data frame\n",
    "    np.random.seed(1) # Fixed random seed for reproducibility reasons\n",
    "    shuffled_index = np.random.permutation(dataset.index)\n",
    "    dataset = dataset.reindex(shuffled_index)\n",
    "    \n",
    "    # Select the first half and set as training set\n",
    "    # Select the second half and set as test set\n",
    "    split = int(len(dataset)/2)\n",
    "    train_ds = dataset[:split].copy()\n",
    "    test_ds = dataset[split:].copy()\n",
    "    \n",
    "    # Fit a KNN model using given k value\n",
    "    model = KNeighborsRegressor(n_neighbors=k_value)\n",
    "    model.fit(train_ds[[train_column]], train_ds[target_column])\n",
    "    \n",
    "    # Make predictions using model\n",
    "    predictions = model.predict(test_ds[[train_column]])\n",
    "    \n",
    "    # Calculate and return RMSE\n",
    "    mse = mean_squared_error(test_ds[target_column], predictions)\n",
    "    rmse = np.sqrt(mse)\n",
    "    return rmse"
   ]
  },
  {
   "cell_type": "code",
   "execution_count": 11,
   "metadata": {
    "collapsed": false
   },
   "outputs": [
    {
     "name": "stdout",
     "output_type": "stream",
     "text": [
      "RMSE results for each column per k value used:\n",
      "{'width': {1: 4559.257297950061, 3: 4606.413692169901, 9: 4652.914172067787, 5: 4704.482589704386, 7: 4571.485046194653}, 'compression-rate': {1: 8087.205346523092, 3: 7375.063685578359, 9: 7024.485525463435, 5: 6610.812153159129, 7: 6732.801282941515}, 'normalized-losses': {1: 7846.750605148984, 3: 7500.5698123109905, 9: 7688.096096891432, 5: 7330.197653434445, 7: 7756.421586234123}, 'highway-mpg': {1: 6025.594966720739, 3: 4617.305019788554, 9: 5278.358056953987, 5: 4630.026798588056, 7: 4796.061440186946}, 'engine-size': {1: 3258.4861059962027, 3: 2840.562805643501, 9: 3831.8244149840766, 5: 3238.4628296477176, 7: 3563.086774256415}, 'stroke': {1: 9116.495955406906, 3: 7338.68466990294, 9: 7735.554366079291, 5: 8006.529544647101, 7: 7803.937796804327}, 'curb-weight': {1: 5264.290230758878, 3: 5022.318011757233, 9: 4632.044474454401, 5: 4401.118254793124, 7: 4330.608104418053}, 'city-mpg': {1: 5901.143574354764, 3: 4646.746408727155, 9: 5465.209492527533, 5: 4766.422505090134, 7: 5232.523034167316}, 'length': {1: 4628.45550121557, 3: 5129.8358210721635, 9: 5383.054514833446, 5: 5427.2009608367125, 7: 5313.427720847974}, 'height': {1: 8904.04645636071, 3: 8277.609643045525, 9: 7811.03606291223, 5: 8144.441042663747, 7: 7679.598124393773}, 'horsepower': {1: 4170.054848037801, 3: 4020.8492630885394, 9: 4515.135617419103, 5: 4037.0377131537603, 7: 4353.811860277134}, 'wheel-base': {1: 4493.734068810494, 3: 5120.161506064513, 9: 5738.405685192312, 5: 5461.553997873057, 7: 5448.1070513823315}, 'peak-rpm': {1: 9511.480067750124, 3: 8537.550899973421, 9: 7340.041341263401, 5: 7697.4596964334805, 7: 7510.294160083481}, 'bore': {1: 8602.58848450066, 3: 6984.239489480916, 9: 6866.808502038413, 5: 6780.627784685976, 7: 6878.097965921532}}\n"
     ]
    }
   ],
   "source": [
    "# Use function to evaluate the model with different numeric columns\n",
    "columns = numeric_cars.columns.tolist()\n",
    "columns.remove('price')\n",
    "k_values = [1, 3, 5, 7, 9]\n",
    "rmses = dict()\n",
    "for col in columns:\n",
    "    k_rmses = dict()\n",
    "    for k in k_values:\n",
    "        rmse = knn_train_test(col, 'price', numeric_cars, k)\n",
    "        k_rmses[k] = rmse\n",
    "    rmses[col] = k_rmses\n",
    "\n",
    "print('RMSE results for each column per k value used:', rmses, sep='\\n')"
   ]
  },
  {
   "cell_type": "code",
   "execution_count": 12,
   "metadata": {
    "collapsed": false
   },
   "outputs": [
    {
     "data": {
      "image/png": "[encoded data removed]",
      "text/plain": [
       "<matplotlib.figure.Figure at 0x7f28e9fbf668>"
      ]
     },
     "metadata": {},
     "output_type": "display_data"
    }
   ],
   "source": [
    "# Visualize RMSE results\n",
    "import matplotlib.pyplot as plt\n",
    "%matplotlib inline\n",
    "\n",
    "for key, value in rmses.items():\n",
    "    x = list(value.keys())\n",
    "    y = list(value.values())\n",
    "\n",
    "    plt.plot(x,y)\n",
    "    plt.xlabel('k value')\n",
    "    plt.ylabel('RMSE')"
   ]
  },
  {
   "cell_type": "markdown",
   "metadata": {},
   "source": [
    "### Creating a multivariate model using k-nearest neighbors algorithm\n",
    "\n",
    "Let's modify inputs to the `knn_train_test()` function we wrote in the last step to work with multiple columns."
   ]
  },
  {
   "cell_type": "code",
   "execution_count": 13,
   "metadata": {
    "collapsed": false
   },
   "outputs": [
    {
     "name": "stdout",
     "output_type": "stream",
     "text": [
      "engine-size          3346.484586\n",
      "horsepower           4219.377860\n",
      "width                4618.910560\n",
      "curb-weight          4730.075815\n",
      "highway-mpg          5069.469256\n",
      "length               5176.394904\n",
      "city-mpg             5202.409003\n",
      "wheel-base           5252.392462\n",
      "compression-rate     7166.073599\n",
      "bore                 7222.472445\n",
      "normalized-losses    7624.407151\n",
      "stroke               8000.240467\n",
      "peak-rpm             8119.365233\n",
      "height               8163.346266\n",
      "dtype: float64\n"
     ]
    }
   ],
   "source": [
    "# Compute average RMSE across different `k` values for each feature.\n",
    "feature_avg_rmse = {}\n",
    "for k,v in rmses.items():\n",
    "    avg_rmse = np.mean(list(v.values()))\n",
    "    feature_avg_rmse[k] = avg_rmse\n",
    "series_avg_rmse = pd.Series(feature_avg_rmse)\n",
    "sorted_series_avg_rmse = series_avg_rmse.sort_values()\n",
    "print(sorted_series_avg_rmse)"
   ]
  },
  {
   "cell_type": "code",
   "execution_count": 16,
   "metadata": {
    "collapsed": false
   },
   "outputs": [
    {
     "name": "stdout",
     "output_type": "stream",
     "text": [
      "Complete best features:\n",
      "[['engine-size', 'horsepower'], ['engine-size', 'horsepower', 'width'], ['engine-size', 'horsepower', 'width', 'curb-weight'], ['engine-size', 'horsepower', 'width', 'curb-weight', 'highway-mpg']]\n"
     ]
    }
   ],
   "source": [
    "# Select best features\n",
    "sorted_features = sorted_series_avg_rmse.index\n",
    "two_features = list(sorted_features[:2])\n",
    "three_features = list(sorted_features[:3])\n",
    "four_features = list(sorted_features[:4])\n",
    "five_features = list(sorted_features[:5])\n",
    "complete_features = [two_features, three_features, four_features, five_features]\n",
    "print('Complete best features:', complete_features, sep='\\n')"
   ]
  },
  {
   "cell_type": "code",
   "execution_count": 17,
   "metadata": {
    "collapsed": true
   },
   "outputs": [],
   "source": [
    "def knn_train_test(train_columns, target_column, dataset, k_value):\n",
    "    \"\"\"\n",
    "    This function performs the training and simple validation process with k-nearest neighbors algorithm and a given k value.\n",
    "    It implements a simple 50/50 split.\n",
    "    \n",
    "    Inputs:\n",
    "        training columns names as a list, target column name, the dataframe object, and k value for k-nearest neighbors algorithm\n",
    "    Output:\n",
    "        RMSE (root-mean-square error) metric\n",
    "    \"\"\"\n",
    "    from sklearn.neighbors import KNeighborsRegressor\n",
    "    from sklearn.metrics import mean_squared_error\n",
    "    \n",
    "    # Randomize order of rows in data frame\n",
    "    np.random.seed(1) # Fixed random seed for reproducibility reasons\n",
    "    shuffled_index = np.random.permutation(dataset.index)\n",
    "    dataset = dataset.reindex(shuffled_index)\n",
    "    \n",
    "    # Select the first half and set as training set\n",
    "    # Select the second half and set as test set\n",
    "    split = int(len(dataset)/2)\n",
    "    train_ds = dataset[:split].copy()\n",
    "    test_ds = dataset[split:].copy()\n",
    "    \n",
    "    # Fit a KNN model using given k value\n",
    "    model = KNeighborsRegressor(n_neighbors=k_value)\n",
    "    model.fit(train_ds[train_columns], train_ds[target_column])\n",
    "    \n",
    "    # Make predictions using model\n",
    "    predictions = model.predict(test_ds[train_columns])\n",
    "    \n",
    "    # Calculate and return RMSE\n",
    "    mse = mean_squared_error(test_ds[target_column], predictions)\n",
    "    rmse = np.sqrt(mse)\n",
    "    return rmse"
   ]
  },
  {
   "cell_type": "code",
   "execution_count": 18,
   "metadata": {
    "collapsed": false
   },
   "outputs": [
    {
     "name": "stdout",
     "output_type": "stream",
     "text": [
      "RMSE results for each column (default k value) by Nr of used features:\n",
      "2 features    2949.881728\n",
      "5 features    3410.217013\n",
      "4 features    3487.340917\n",
      "3 features    3580.737665\n",
      "dtype: float64\n"
     ]
    }
   ],
   "source": [
    "# Compute rmse values for each of the grouped features\n",
    "rmses = dict()\n",
    "for group_features in complete_features:\n",
    "    nr_features = str(len(group_features)) + ' features'\n",
    "    rmse = knn_train_test(group_features, 'price', numeric_cars, 5)\n",
    "    rmses[nr_features] = rmse\n",
    "\n",
    "# Create Series from dictionary to clarify results\n",
    "rmses_results = pd.Series(rmses)\n",
    "print('RMSE results for each column (default k value) by Nr of used features:', rmses_results.sort_values(), sep='\\n')"
   ]
  },
  {
   "cell_type": "markdown",
   "metadata": {},
   "source": [
    "### Optimizing the model through hyperparameter tuning\n",
    "\n",
    "Let's now optimize the models that performed the best in the previous step. We'll use 25 k values in steps of 1 to search the optimal value to use."
   ]
  },
  {
   "cell_type": "code",
   "execution_count": 19,
   "metadata": {
    "collapsed": false
   },
   "outputs": [
    {
     "name": "stdout",
     "output_type": "stream",
     "text": [
      "RMSE results for each column per k value used:\n",
      "{'2 features': {1: 2783.6204237227344, 2: 2657.7963807419765, 3: 2792.586573031673, 4: 2891.5329686923255, 5: 2949.8817277180374, 6: 3096.402601694776, 7: 3164.681969020496, 8: 3413.228359192009, 9: 3748.6716603306486, 10: 4080.7125057341937, 11: 4215.6372280600335, 12: 4275.421524277872, 13: 4373.901683035496, 14: 4424.285137239815, 15: 4539.505493095937, 16: 4667.307671446768, 17: 4729.605305844226, 18: 4790.556632159094, 19: 4824.3866193292615, 20: 4840.850914693829, 21: 4837.429062000271, 22: 4831.16988267597, 23: 4861.679492959275, 24: 4903.346008862579, 25: 4955.892429427362}, '5 features': {1: 2824.7061233282866, 2: 2915.6731645496975, 3: 3012.4204546509704, 4: 3202.8876051367483, 5: 3410.2170133901805, 6: 3618.4509432660384, 7: 3622.6290209234803, 8: 3848.635835654326, 9: 3977.8149139381726, 10: 3994.8132211260104, 11: 4159.843526607947, 12: 4294.3389473154875, 13: 4380.848359486949, 14: 4466.368754416089, 15: 4522.420711094978, 16: 4536.427578452413, 17: 4587.098443664006, 18: 4622.107837952761, 19: 4612.890107622797, 20: 4632.693976139521, 21: 4712.917548435062, 22: 4676.301064518744, 23: 4691.189310956096, 24: 4755.990767231825, 25: 4804.323266214411}, '4 features': {1: 2952.725686581471, 2: 3131.704952720018, 3: 3129.692821910155, 4: 3241.4320776448717, 5: 3487.340917327035, 6: 3637.0381471429987, 7: 3606.195077860286, 8: 3809.9307026308247, 9: 3875.274902378068, 10: 3997.1583055842293, 11: 4162.564050411074, 12: 4289.486490995821, 13: 4368.061602779942, 14: 4416.304772968801, 15: 4434.013914355171, 16: 4441.4634909198785, 17: 4512.996303789127, 18: 4523.575629742228, 19: 4534.834065236792, 20: 4620.211598150367, 21: 4688.356509517293, 22: 4731.46717779913, 23: 4763.535312989311, 24: 4751.601375872476, 25: 4757.099289594177}, '3 features': {1: 3399.8148100410203, 2: 3497.191103423058, 3: 3333.6966577570593, 4: 3355.8842294742026, 5: 3580.7376651928435, 6: 3732.943016673517, 7: 3639.9439408462786, 8: 3747.4209132113137, 9: 3986.593913133887, 10: 4005.354888715163, 11: 4121.687230061635, 12: 4255.700651624227, 13: 4328.476829895253, 14: 4332.216494947217, 15: 4388.225713011904, 16: 4408.838883583756, 17: 4404.781029718083, 18: 4447.577705091259, 19: 4537.049753345422, 20: 4592.444230865941, 21: 4636.731219491763, 22: 4721.248544133379, 23: 4787.943506313775, 24: 4802.894378990491, 25: 4816.708120139092}}\n"
     ]
    }
   ],
   "source": [
    "# Compute rmse values for different k values\n",
    "k_values = [i for i in range(1, 26)]\n",
    "rmses = dict()\n",
    "for group_features in complete_features:\n",
    "    k_rmses = dict()\n",
    "    nr_features = str(len(group_features)) + ' features'\n",
    "    for k in k_values:\n",
    "        rmse = knn_train_test(group_features, 'price', numeric_cars, k)\n",
    "        k_rmses[k] = rmse\n",
    "    rmses[nr_features] = k_rmses\n",
    "\n",
    "print('RMSE results for each column per k value used:', rmses, sep='\\n')"
   ]
  },
  {
   "cell_type": "code",
   "execution_count": 20,
   "metadata": {
    "collapsed": false
   },
   "outputs": [
    {
     "data": {
      "text/plain": [
       "<matplotlib.legend.Legend at 0x7f28e71d77f0>"
      ]
     },
     "execution_count": 20,
     "metadata": {},
     "output_type": "execute_result"
    },
    {
     "data": {
      "image/png": "[encoded data removed]",
      "text/plain": [
       "<matplotlib.figure.Figure at 0x7f28e71d7f98>"
      ]
     },
     "metadata": {},
     "output_type": "display_data"
    }
   ],
   "source": [
    "# Visualize results\n",
    "for k,v in rmses.items():\n",
    "    x = list(v.keys())\n",
    "    y = list(v.values())  \n",
    "    plt.plot(x,y, label=\"{}\".format(k))\n",
    "    \n",
    "plt.xlabel('k value')\n",
    "plt.ylabel('RMSE')\n",
    "plt.legend(loc='upper left')"
   ]
  },
  {
   "cell_type": "markdown",
   "metadata": {},
   "source": [
    "As per the results, we can see that, overall, the best model is obtained with the 2 best features: `'engine-size'` and `'horsepower'` and a value of `k = 2`.\n"
   ]
  }
 ],
 "metadata": {
  "kernelspec": {
   "display_name": "Python 3",
   "language": "python",
   "name": "python3"
  },
  "language_info": {
   "codemirror_mode": {
    "name": "ipython",
    "version": 3
   },
   "file_extension": ".py",
   "mimetype": "text/x-python",
   "name": "python",
   "nbconvert_exporter": "python",
   "pygments_lexer": "ipython3",
   "version": "3.4.3"
  }
 },
 "nbformat": 4,
 "nbformat_minor": 2
}
